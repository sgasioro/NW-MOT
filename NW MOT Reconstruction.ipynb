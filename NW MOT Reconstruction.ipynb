{
 "cells": [
  {
   "cell_type": "code",
   "execution_count": 1,
   "id": "7670a12a",
   "metadata": {},
   "outputs": [],
   "source": [
    "import pickle\n",
    "import torch\n",
    "\n",
    "import gradoptics as optics\n",
    "from gradoptics.integrator import HierarchicalSamplingIntegrator\n",
    "from ml.siren import Siren\n",
    "\n",
    "import torch.nn as nn\n",
    "import matplotlib.pyplot as plt\n",
    "from tqdm import tqdm\n",
    "import numpy as np"
   ]
  },
  {
   "cell_type": "markdown",
   "id": "8ff89c8a",
   "metadata": {},
   "source": [
    "## Import scene and targets from Setup notebook"
   ]
  },
  {
   "cell_type": "code",
   "execution_count": 2,
   "id": "7b0c854a",
   "metadata": {},
   "outputs": [],
   "source": [
    "scene_objects = pickle.load(open(\"NW_mot_scene_components.pkl\", \"rb\"))\n",
    "targets = pickle.load(open(\"NW_mot_images.pkl\", \"rb\"))"
   ]
  },
  {
   "cell_type": "markdown",
   "id": "8c916c9a",
   "metadata": {},
   "source": [
    "## Adding a mask to focus on relevant bit of images"
   ]
  },
  {
   "cell_type": "code",
   "execution_count": 3,
   "id": "5ce39446",
   "metadata": {},
   "outputs": [],
   "source": [
    "sel_mask = torch.ones(targets.shape[1:], dtype=torch.bool)\n",
    "sel_mask[:250] = 0\n",
    "sel_mask[1750:] = 0\n",
    "sel_mask[:, 1500:] = 0"
   ]
  },
  {
   "cell_type": "code",
   "execution_count": 4,
   "id": "e05f74a4",
   "metadata": {},
   "outputs": [],
   "source": [
    "targets = targets.flatten(start_dim=1).cuda()"
   ]
  },
  {
   "cell_type": "markdown",
   "id": "32b38267",
   "metadata": {},
   "source": [
    "## Set up model -- here we use SIREN"
   ]
  },
  {
   "cell_type": "code",
   "execution_count": 5,
   "id": "aad1f69c",
   "metadata": {},
   "outputs": [],
   "source": [
    "device = 'cuda'\n",
    "\n",
    "in_features = 3\n",
    "hidden_features = 256\n",
    "hidden_layers = 3\n",
    "out_features = 1\n",
    "\n",
    "model = Siren(in_features, hidden_features, hidden_layers, out_features,\n",
    "              outermost_linear=True, outermost_linear_activation=nn.ReLU()).double().to(device)"
   ]
  },
  {
   "cell_type": "markdown",
   "id": "0ce6bcc0",
   "metadata": {},
   "source": [
    "## Set up scene used for rendering in training\n",
    "\n",
    "Relies on new class (make sure to pull) which samples from a neural net for a light source."
   ]
  },
  {
   "cell_type": "code",
   "execution_count": 6,
   "id": "930ede38",
   "metadata": {},
   "outputs": [],
   "source": [
    "# Region we want to integrate in + position\n",
    "rad = 0.03\n",
    "obj_pos = (0, 0, 0)\n",
    "\n",
    "light_source = optics.LightSourceFromNeuralNet(model, optics.BoundingSphere(radii=rad, \n",
    "                                                                     xc=obj_pos[0], yc=obj_pos[1], zc=obj_pos[2]),\n",
    "                                        rad=rad, x_pos=obj_pos[0], y_pos=obj_pos[1], z_pos=obj_pos[2])\n",
    "scene_train = optics.Scene(light_source)\n",
    "\n",
    "for obj in scene_objects:\n",
    "    scene_train.add_object(obj)"
   ]
  },
  {
   "cell_type": "code",
   "execution_count": 7,
   "id": "baf41076",
   "metadata": {},
   "outputs": [
    {
     "name": "stderr",
     "output_type": "stream",
     "text": [
      "/sdf/group/magis/sgaz/sw/conda/envs/ml/lib/python3.9/site-packages/torch/functional.py:478: UserWarning: torch.meshgrid: in an upcoming release, it will be required to pass the indexing argument. (Triggered internally at  /opt/conda/conda-bld/pytorch_1656352660876/work/aten/src/ATen/native/TensorShape.cpp:2894.)\n",
      "  return _VF.meshgrid(tensors, **kwargs)  # type: ignore[attr-defined]\n"
     ]
    },
    {
     "data": {
      "image/png": "[encoded data removed]",
      "text/plain": [
       "<Figure size 640x480 with 1 Axes>"
      ]
     },
     "metadata": {},
     "output_type": "display_data"
    }
   ],
   "source": [
    "fig = plt.figure()\n",
    "ax = fig.add_subplot(projection='3d')\n",
    "for obj in scene_train.objects:\n",
    "    if type(obj) == optics.BoundingSphere:\n",
    "        continue\n",
    "        \n",
    "    obj.plot(ax)\n",
    "ax.view_init(0, -90)"
   ]
  },
  {
   "cell_type": "markdown",
   "id": "6ddc8d97",
   "metadata": {},
   "source": [
    "And now train"
   ]
  },
  {
   "cell_type": "code",
   "execution_count": 8,
   "id": "79adb211",
   "metadata": {},
   "outputs": [],
   "source": [
    "sensor_list = [obj for obj in scene_train.objects if type(obj) == optics.Sensor]\n",
    "lens_list = [obj for obj in scene_train.objects if type(obj) == optics.PerfectLens]"
   ]
  },
  {
   "cell_type": "code",
   "execution_count": null,
   "id": "5c95e68c",
   "metadata": {},
   "outputs": [
    {
     "name": "stderr",
     "output_type": "stream",
     "text": [
      "  0%|          | 0/100000 [00:00<?, ?it/s]/sdf/home/s/sgaz/gradoptics/src/gradoptics/ray_tracing/ray_tracing.py:145: UserWarning: To copy construct from a tensor, it is recommended to use sourceTensor.clone().detach() or sourceTensor.clone().detach().requires_grad_(True), rather than torch.tensor(sourceTensor).\n",
      "  sensor_normal = (lens.transform.transform[:-1, -1]-torch.tensor(sensor.position)).to(device)\n",
      "  0%|          | 1/100000 [00:05<150:05:11,  5.40s/it]"
     ]
    },
    {
     "name": "stdout",
     "output_type": "stream",
     "text": [
      "2.8961176671534523\n"
     ]
    },
    {
     "name": "stderr",
     "output_type": "stream",
     "text": [
      "  0%|          | 3/100000 [00:07<51:00:06,  1.84s/it] /sdf/home/s/sgaz/gradoptics/src/gradoptics/optics/sensor.py:147: UserWarning: __floordiv__ is deprecated, and its behavior will change in a future version of pytorch. It currently rounds toward 0 (like the 'trunc' function NOT 'floor'). This results in incorrect rounding for negative values. To keep the current behavior, use torch.div(a, b, rounding_mode='trunc'), or for actual floor division, use torch.div(a, b, rounding_mode='floor').\n",
      "  ind // (self.resolution[1] * self.psf_ratio)] += luminosities[arg_ind, None]\n",
      "  0%|          | 101/100000 [00:49<14:09:17,  1.96it/s]"
     ]
    },
    {
     "name": "stdout",
     "output_type": "stream",
     "text": [
      "0.15777480524476373\n"
     ]
    },
    {
     "name": "stderr",
     "output_type": "stream",
     "text": [
      "  0%|          | 201/100000 [01:35<13:59:17,  1.98it/s]"
     ]
    },
    {
     "name": "stdout",
     "output_type": "stream",
     "text": [
      "0.8552968469411112\n"
     ]
    },
    {
     "name": "stderr",
     "output_type": "stream",
     "text": [
      "  0%|          | 301/100000 [02:20<12:23:51,  2.23it/s]"
     ]
    },
    {
     "name": "stdout",
     "output_type": "stream",
     "text": [
      "0.16578202355848262\n"
     ]
    },
    {
     "name": "stderr",
     "output_type": "stream",
     "text": [
      "  0%|          | 401/100000 [03:03<14:00:09,  1.98it/s]"
     ]
    },
    {
     "name": "stdout",
     "output_type": "stream",
     "text": [
      "0.8721471075059393\n"
     ]
    },
    {
     "name": "stderr",
     "output_type": "stream",
     "text": [
      "  1%|          | 501/100000 [03:47<11:39:01,  2.37it/s]"
     ]
    },
    {
     "name": "stdout",
     "output_type": "stream",
     "text": [
      "0.18703121390859734\n"
     ]
    },
    {
     "name": "stderr",
     "output_type": "stream",
     "text": [
      "  1%|          | 601/100000 [04:30<9:32:04,  2.90it/s] "
     ]
    },
    {
     "name": "stdout",
     "output_type": "stream",
     "text": [
      "0.6667149916473538\n"
     ]
    },
    {
     "name": "stderr",
     "output_type": "stream",
     "text": [
      "  1%|          | 701/100000 [05:15<9:38:02,  2.86it/s] "
     ]
    },
    {
     "name": "stdout",
     "output_type": "stream",
     "text": [
      "0.16226676451405886\n"
     ]
    },
    {
     "name": "stderr",
     "output_type": "stream",
     "text": [
      "  1%|          | 801/100000 [06:01<13:37:38,  2.02it/s]"
     ]
    },
    {
     "name": "stdout",
     "output_type": "stream",
     "text": [
      "0.6955743456057534\n"
     ]
    },
    {
     "name": "stderr",
     "output_type": "stream",
     "text": [
      "  1%|          | 901/100000 [06:46<16:02:32,  1.72it/s]"
     ]
    },
    {
     "name": "stdout",
     "output_type": "stream",
     "text": [
      "0.21841744697753335\n"
     ]
    },
    {
     "name": "stderr",
     "output_type": "stream",
     "text": [
      "  1%|          | 1001/100000 [07:31<13:09:56,  2.09it/s]"
     ]
    },
    {
     "name": "stdout",
     "output_type": "stream",
     "text": [
      "0.7587352936721322\n"
     ]
    },
    {
     "name": "stderr",
     "output_type": "stream",
     "text": [
      "  1%|          | 1101/100000 [08:16<9:46:54,  2.81it/s] "
     ]
    },
    {
     "name": "stdout",
     "output_type": "stream",
     "text": [
      "0.24478501790843207\n"
     ]
    },
    {
     "name": "stderr",
     "output_type": "stream",
     "text": [
      "  1%|          | 1201/100000 [08:59<11:29:02,  2.39it/s]"
     ]
    },
    {
     "name": "stdout",
     "output_type": "stream",
     "text": [
      "0.6926215957432783\n"
     ]
    },
    {
     "name": "stderr",
     "output_type": "stream",
     "text": [
      "  1%|▏         | 1301/100000 [09:44<14:45:15,  1.86it/s]"
     ]
    },
    {
     "name": "stdout",
     "output_type": "stream",
     "text": [
      "0.1890219945197419\n"
     ]
    },
    {
     "name": "stderr",
     "output_type": "stream",
     "text": [
      "  1%|▏         | 1401/100000 [10:30<15:00:06,  1.83it/s]"
     ]
    },
    {
     "name": "stdout",
     "output_type": "stream",
     "text": [
      "0.5675041561897312\n"
     ]
    },
    {
     "name": "stderr",
     "output_type": "stream",
     "text": [
      "  2%|▏         | 1500/100000 [11:12<13:59:05,  1.96it/s]"
     ]
    },
    {
     "name": "stdout",
     "output_type": "stream",
     "text": [
      "0.17240121462072192\n"
     ]
    },
    {
     "name": "stderr",
     "output_type": "stream",
     "text": [
      "  2%|▏         | 1601/100000 [11:55<12:47:02,  2.14it/s]"
     ]
    },
    {
     "name": "stdout",
     "output_type": "stream",
     "text": [
      "0.7685091675330277\n"
     ]
    },
    {
     "name": "stderr",
     "output_type": "stream",
     "text": [
      "  2%|▏         | 1701/100000 [12:38<9:15:45,  2.95it/s] "
     ]
    },
    {
     "name": "stdout",
     "output_type": "stream",
     "text": [
      "0.19910707478597073\n"
     ]
    },
    {
     "name": "stderr",
     "output_type": "stream",
     "text": [
      "  2%|▏         | 1801/100000 [13:22<9:28:20,  2.88it/s] "
     ]
    },
    {
     "name": "stdout",
     "output_type": "stream",
     "text": [
      "0.8853550433420039\n"
     ]
    },
    {
     "name": "stderr",
     "output_type": "stream",
     "text": [
      "  2%|▏         | 1901/100000 [14:06<9:50:46,  2.77it/s] "
     ]
    },
    {
     "name": "stdout",
     "output_type": "stream",
     "text": [
      "0.17112270589131462\n"
     ]
    },
    {
     "name": "stderr",
     "output_type": "stream",
     "text": [
      "  2%|▏         | 2001/100000 [14:49<9:33:46,  2.85it/s] "
     ]
    },
    {
     "name": "stdout",
     "output_type": "stream",
     "text": [
      "0.9587196516234353\n"
     ]
    },
    {
     "name": "stderr",
     "output_type": "stream",
     "text": [
      "  2%|▏         | 2101/100000 [15:33<9:26:57,  2.88it/s] "
     ]
    },
    {
     "name": "stdout",
     "output_type": "stream",
     "text": [
      "0.16076527225761142\n"
     ]
    },
    {
     "name": "stderr",
     "output_type": "stream",
     "text": [
      "  2%|▏         | 2201/100000 [16:17<9:09:09,  2.97it/s] "
     ]
    },
    {
     "name": "stdout",
     "output_type": "stream",
     "text": [
      "0.6887525802232397\n"
     ]
    },
    {
     "name": "stderr",
     "output_type": "stream",
     "text": [
      "  2%|▏         | 2301/100000 [17:00<9:10:06,  2.96it/s] "
     ]
    },
    {
     "name": "stdout",
     "output_type": "stream",
     "text": [
      "0.15866527337570374\n"
     ]
    },
    {
     "name": "stderr",
     "output_type": "stream",
     "text": [
      "  2%|▏         | 2401/100000 [17:46<13:22:40,  2.03it/s]"
     ]
    },
    {
     "name": "stdout",
     "output_type": "stream",
     "text": [
      "0.8617780950793645\n"
     ]
    },
    {
     "name": "stderr",
     "output_type": "stream",
     "text": [
      "  3%|▎         | 2501/100000 [18:30<13:00:37,  2.08it/s]"
     ]
    },
    {
     "name": "stdout",
     "output_type": "stream",
     "text": [
      "0.17916044543638626\n"
     ]
    },
    {
     "name": "stderr",
     "output_type": "stream",
     "text": [
      "  3%|▎         | 2801/100000 [20:40<13:51:24,  1.95it/s]"
     ]
    },
    {
     "name": "stdout",
     "output_type": "stream",
     "text": [
      "0.7455837244937092\n"
     ]
    },
    {
     "name": "stderr",
     "output_type": "stream",
     "text": [
      "  3%|▎         | 2901/100000 [21:26<16:37:46,  1.62it/s]"
     ]
    },
    {
     "name": "stdout",
     "output_type": "stream",
     "text": [
      "0.19586375566349423\n"
     ]
    },
    {
     "name": "stderr",
     "output_type": "stream",
     "text": [
      "  3%|▎         | 3001/100000 [22:11<13:59:25,  1.93it/s]"
     ]
    },
    {
     "name": "stdout",
     "output_type": "stream",
     "text": [
      "0.7273038655096367\n"
     ]
    },
    {
     "name": "stderr",
     "output_type": "stream",
     "text": [
      "  3%|▎         | 3101/100000 [22:53<13:16:19,  2.03it/s]"
     ]
    },
    {
     "name": "stdout",
     "output_type": "stream",
     "text": [
      "0.18410340004161463\n"
     ]
    },
    {
     "name": "stderr",
     "output_type": "stream",
     "text": [
      "  3%|▎         | 3201/100000 [23:37<13:34:15,  1.98it/s]"
     ]
    },
    {
     "name": "stdout",
     "output_type": "stream",
     "text": [
      "0.7982374170662383\n"
     ]
    },
    {
     "name": "stderr",
     "output_type": "stream",
     "text": [
      "  3%|▎         | 3301/100000 [24:20<12:00:23,  2.24it/s]"
     ]
    },
    {
     "name": "stdout",
     "output_type": "stream",
     "text": [
      "0.16186775967520847\n"
     ]
    },
    {
     "name": "stderr",
     "output_type": "stream",
     "text": [
      "  3%|▎         | 3401/100000 [25:04<9:47:10,  2.74it/s] "
     ]
    },
    {
     "name": "stdout",
     "output_type": "stream",
     "text": [
      "0.8373498693087724\n"
     ]
    },
    {
     "name": "stderr",
     "output_type": "stream",
     "text": [
      "  4%|▎         | 3501/100000 [25:48<9:21:18,  2.87it/s] "
     ]
    },
    {
     "name": "stdout",
     "output_type": "stream",
     "text": [
      "0.17242868796190103\n"
     ]
    },
    {
     "name": "stderr",
     "output_type": "stream",
     "text": [
      "  4%|▎         | 3601/100000 [26:31<9:32:35,  2.81it/s] "
     ]
    },
    {
     "name": "stdout",
     "output_type": "stream",
     "text": [
      "0.8102717519401961\n"
     ]
    },
    {
     "name": "stderr",
     "output_type": "stream",
     "text": [
      "  4%|▎         | 3701/100000 [27:15<9:12:13,  2.91it/s] "
     ]
    },
    {
     "name": "stdout",
     "output_type": "stream",
     "text": [
      "0.18148687306460065\n"
     ]
    },
    {
     "name": "stderr",
     "output_type": "stream",
     "text": [
      "  4%|▍         | 3801/100000 [27:58<9:10:07,  2.91it/s] "
     ]
    },
    {
     "name": "stdout",
     "output_type": "stream",
     "text": [
      "0.7723602159908035\n"
     ]
    },
    {
     "name": "stderr",
     "output_type": "stream",
     "text": [
      "  4%|▍         | 3901/100000 [28:41<9:09:45,  2.91it/s] "
     ]
    },
    {
     "name": "stdout",
     "output_type": "stream",
     "text": [
      "0.16774720121352066\n"
     ]
    },
    {
     "name": "stderr",
     "output_type": "stream",
     "text": [
      "  4%|▍         | 4201/100000 [30:56<14:41:52,  1.81it/s]"
     ]
    },
    {
     "name": "stdout",
     "output_type": "stream",
     "text": [
      "0.7120730709834123\n"
     ]
    },
    {
     "name": "stderr",
     "output_type": "stream",
     "text": [
      "  4%|▍         | 4301/100000 [31:41<14:50:56,  1.79it/s]"
     ]
    },
    {
     "name": "stdout",
     "output_type": "stream",
     "text": [
      "0.12298767597775905\n"
     ]
    },
    {
     "name": "stderr",
     "output_type": "stream",
     "text": [
      "  4%|▍         | 4401/100000 [32:25<11:13:39,  2.37it/s]"
     ]
    },
    {
     "name": "stdout",
     "output_type": "stream",
     "text": [
      "0.7366083101124756\n"
     ]
    },
    {
     "name": "stderr",
     "output_type": "stream",
     "text": [
      "  5%|▍         | 4501/100000 [33:09<9:21:54,  2.83it/s] "
     ]
    },
    {
     "name": "stdout",
     "output_type": "stream",
     "text": [
      "0.1931458353520551\n"
     ]
    },
    {
     "name": "stderr",
     "output_type": "stream",
     "text": [
      "  5%|▍         | 4601/100000 [33:52<8:57:48,  2.96it/s] "
     ]
    },
    {
     "name": "stdout",
     "output_type": "stream",
     "text": [
      "0.8753529173058037\n"
     ]
    },
    {
     "name": "stderr",
     "output_type": "stream",
     "text": [
      "  5%|▍         | 4701/100000 [34:35<9:15:23,  2.86it/s] "
     ]
    },
    {
     "name": "stdout",
     "output_type": "stream",
     "text": [
      "0.19213940156655962\n"
     ]
    },
    {
     "name": "stderr",
     "output_type": "stream",
     "text": [
      "  5%|▍         | 4801/100000 [35:18<8:59:10,  2.94it/s] "
     ]
    },
    {
     "name": "stdout",
     "output_type": "stream",
     "text": [
      "0.7875635132907949\n"
     ]
    },
    {
     "name": "stderr",
     "output_type": "stream",
     "text": [
      "  5%|▍         | 4901/100000 [36:03<12:11:02,  2.17it/s]"
     ]
    },
    {
     "name": "stdout",
     "output_type": "stream",
     "text": [
      "0.16162617105290117\n"
     ]
    },
    {
     "name": "stderr",
     "output_type": "stream",
     "text": [
      "  5%|▌         | 5001/100000 [36:45<9:22:28,  2.81it/s] "
     ]
    },
    {
     "name": "stdout",
     "output_type": "stream",
     "text": [
      "0.864898593070369\n"
     ]
    },
    {
     "name": "stderr",
     "output_type": "stream",
     "text": [
      "  5%|▌         | 5101/100000 [37:30<14:30:17,  1.82it/s]"
     ]
    },
    {
     "name": "stdout",
     "output_type": "stream",
     "text": [
      "0.16091196731367635\n"
     ]
    },
    {
     "name": "stderr",
     "output_type": "stream",
     "text": [
      "  5%|▌         | 5201/100000 [38:14<12:24:55,  2.12it/s]"
     ]
    },
    {
     "name": "stdout",
     "output_type": "stream",
     "text": [
      "0.6976758697010321\n"
     ]
    },
    {
     "name": "stderr",
     "output_type": "stream",
     "text": [
      "  5%|▌         | 5301/100000 [38:58<12:35:47,  2.09it/s]"
     ]
    },
    {
     "name": "stdout",
     "output_type": "stream",
     "text": [
      "0.1701846950337766\n"
     ]
    },
    {
     "name": "stderr",
     "output_type": "stream",
     "text": [
      "  5%|▌         | 5401/100000 [39:42<12:49:05,  2.05it/s]"
     ]
    },
    {
     "name": "stdout",
     "output_type": "stream",
     "text": [
      "0.7912596400614418\n"
     ]
    },
    {
     "name": "stderr",
     "output_type": "stream",
     "text": [
      "  6%|▌         | 5501/100000 [40:25<14:16:43,  1.84it/s]"
     ]
    },
    {
     "name": "stdout",
     "output_type": "stream",
     "text": [
      "0.22059733441830134\n"
     ]
    },
    {
     "name": "stderr",
     "output_type": "stream",
     "text": [
      "  6%|▌         | 5601/100000 [41:08<14:15:26,  1.84it/s]"
     ]
    },
    {
     "name": "stdout",
     "output_type": "stream",
     "text": [
      "0.6401402349546517\n"
     ]
    },
    {
     "name": "stderr",
     "output_type": "stream",
     "text": [
      "  6%|▌         | 5701/100000 [41:52<13:26:34,  1.95it/s]"
     ]
    },
    {
     "name": "stdout",
     "output_type": "stream",
     "text": [
      "0.17052799718455414\n"
     ]
    },
    {
     "name": "stderr",
     "output_type": "stream",
     "text": [
      "  6%|▌         | 5801/100000 [42:35<13:44:13,  1.90it/s]"
     ]
    },
    {
     "name": "stdout",
     "output_type": "stream",
     "text": [
      "0.6819014614754028\n"
     ]
    },
    {
     "name": "stderr",
     "output_type": "stream",
     "text": [
      "  6%|▌         | 5901/100000 [43:20<13:46:23,  1.90it/s]"
     ]
    },
    {
     "name": "stdout",
     "output_type": "stream",
     "text": [
      "0.18448628407592726\n"
     ]
    },
    {
     "name": "stderr",
     "output_type": "stream",
     "text": [
      "  6%|▌         | 6001/100000 [44:05<11:23:39,  2.29it/s]"
     ]
    },
    {
     "name": "stdout",
     "output_type": "stream",
     "text": [
      "0.8931224622877092\n"
     ]
    },
    {
     "name": "stderr",
     "output_type": "stream",
     "text": [
      "  6%|▌         | 6101/100000 [44:48<9:12:49,  2.83it/s] "
     ]
    },
    {
     "name": "stdout",
     "output_type": "stream",
     "text": [
      "0.13512359735030144\n"
     ]
    },
    {
     "name": "stderr",
     "output_type": "stream",
     "text": [
      "  6%|▌         | 6201/100000 [45:32<10:14:26,  2.54it/s]"
     ]
    },
    {
     "name": "stdout",
     "output_type": "stream",
     "text": [
      "0.9725465192544172\n"
     ]
    },
    {
     "name": "stderr",
     "output_type": "stream",
     "text": [
      "  6%|▋         | 6301/100000 [46:15<8:48:08,  2.96it/s] "
     ]
    },
    {
     "name": "stdout",
     "output_type": "stream",
     "text": [
      "0.20640019364258066\n"
     ]
    },
    {
     "name": "stderr",
     "output_type": "stream",
     "text": [
      "  6%|▋         | 6401/100000 [46:58<8:54:00,  2.92it/s] "
     ]
    },
    {
     "name": "stdout",
     "output_type": "stream",
     "text": [
      "0.7448648010805441\n"
     ]
    },
    {
     "name": "stderr",
     "output_type": "stream",
     "text": [
      "  7%|▋         | 6501/100000 [47:42<9:20:55,  2.78it/s] "
     ]
    },
    {
     "name": "stdout",
     "output_type": "stream",
     "text": [
      "0.23089103018154314\n"
     ]
    },
    {
     "name": "stderr",
     "output_type": "stream",
     "text": [
      "  7%|▋         | 6542/100000 [48:01<8:59:34,  2.89it/s] "
     ]
    }
   ],
   "source": [
    "batch_size = 512\n",
    "loss_fn = torch.nn.MSELoss()\n",
    "integrator = HierarchicalSamplingIntegrator(64, 64)\n",
    "optimizer = torch.optim.Adam(scene_train.light_source.network.parameters(), lr=1e-4)\n",
    "\n",
    "losses = []\n",
    "\n",
    "camera_list = torch.randperm(len(targets))\n",
    "for i_iter in tqdm(range(100000)): \n",
    "    # Grab camera image\n",
    "    rand_data_id = camera_list[i_iter % len(targets)]\n",
    "    sensor_here = sensor_list[rand_data_id]\n",
    "    lens_here = lens_list[rand_data_id]\n",
    "    \n",
    "    h_here, w_here = sensor_here.resolution\n",
    "    \n",
    "    # Grab masked pixel indices + sample randomly\n",
    "    idxs_all = torch.cartesian_prod(torch.arange(h_here//2, -h_here//2, -1), \n",
    "                                    torch.arange(w_here//2, -w_here//2, -1))\n",
    "    \n",
    "    idxs_all = idxs_all[sel_mask.flatten()]\n",
    "    \n",
    "    rand_pixels = torch.randint(0, len(idxs_all), (batch_size,))\n",
    "    target_vals = targets[rand_data_id][sel_mask.flatten()][rand_pixels]\n",
    "\n",
    "    \n",
    "    batch_pix_x = idxs_all[rand_pixels, 0]\n",
    "    batch_pix_y = idxs_all[rand_pixels, 1]\n",
    "\n",
    "    # Render image from neural network light source\n",
    "    intensities = optics.ray_tracing.ray_tracing.render_pixels(sensor_here, \n",
    "                                                  lens_here, \n",
    "                                                 scene_train, scene_train.light_source, 1, 5, \n",
    "                                                 batch_pix_x, batch_pix_y,\n",
    "                                                 integrator, device='cuda',max_iterations=6)\n",
    "    \n",
    "\n",
    "    # Scaling to help control loss values\n",
    "    im_scale = targets[rand_data_id][sel_mask.flatten()].mean().item()\n",
    "    \n",
    "    # Calculate loss and update neural network parameters\n",
    "    loss = loss_fn(intensities/im_scale*1e5, target_vals.double().cuda()/im_scale)\n",
    "    optimizer.zero_grad()\n",
    "    loss.backward()\n",
    "    optimizer.step()\n",
    "    \n",
    "    # Record and print out\n",
    "    losses.append(loss.item())\n",
    "    if i_iter % 100 == 0:\n",
    "        print(loss.item())\n",
    "        \n",
    "    if i_iter % 500 == 0:\n",
    "        with torch.no_grad():\n",
    "            torch.save(scene_train.light_source.network.state_dict(), \n",
    "                       f'model_{i_iter}_NW_MOT_all_cameras_long.pt')"
   ]
  },
  {
   "cell_type": "code",
   "execution_count": null,
   "id": "fab8fc07",
   "metadata": {},
   "outputs": [],
   "source": []
  }
 ],
 "metadata": {
  "kernelspec": {
   "display_name": "Python 3",
   "language": "python",
   "name": "python3"
  },
  "language_info": {
   "codemirror_mode": {
    "name": "ipython",
    "version": 3
   },
   "file_extension": ".py",
   "mimetype": "text/x-python",
   "name": "python",
   "nbconvert_exporter": "python",
   "pygments_lexer": "ipython3",
   "version": "3.9.12"
  }
 },
 "nbformat": 4,
 "nbformat_minor": 5
}
